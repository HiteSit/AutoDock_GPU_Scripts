{
 "cells": [
  {
   "cell_type": "code",
   "execution_count": 1,
   "id": "dd231db6-5365-47be-a4ee-c9fcf3bda5d0",
   "metadata": {},
   "outputs": [],
   "source": [
    "import glob, os, shutil\n",
    "import re\n",
    "import pdb\n",
    "\n",
    "import pandas as pd\n",
    "import numpy as np\n",
    "\n",
    "from openbabel import pybel, openbabel\n",
    "from rdkit import Chem\n",
    "from rdkit.Chem import AllChem\n",
    "from itertools import chain"
   ]
  },
  {
   "cell_type": "code",
   "execution_count": 2,
   "id": "c9d77f36-0a0a-4ccb-b3f3-d9fe536dda19",
   "metadata": {},
   "outputs": [],
   "source": [
    "from functions import parse_mol as parse\n",
    "from functions import conformer_gen as conf"
   ]
  },
  {
   "cell_type": "code",
   "execution_count": 4,
   "id": "dccc237a-d2bb-47d9-97dd-c5c400d2fd39",
   "metadata": {},
   "outputs": [],
   "source": [
    "# Choose work directory\n",
    "work_dir = input(\"Choose your workdir: \")\n",
    "\n",
    "# Move to the working directory\n",
    "os.chdir(work_dir)"
   ]
  },
  {
   "cell_type": "code",
   "execution_count": 5,
   "id": "f4fdca84-c0d9-4284-8fcd-43229acf253e",
   "metadata": {},
   "outputs": [],
   "source": [
    "# Write files full name & files basename\n",
    "files = glob.glob(\"*.dlg\")\n",
    "basenames = []\n",
    "for file in files:\n",
    "    basenames.append(file.split(\".\")[0])"
   ]
  },
  {
   "cell_type": "code",
   "execution_count": 6,
   "id": "af074d87-e88a-4a5d-873d-c36d63b2a490",
   "metadata": {},
   "outputs": [],
   "source": [
    "tup_1 = list(zip(files,basenames))\n",
    "conv_for_pose = []\n",
    "for file, basename in tup_1:\n",
    "    \n",
    "    # Grab string 100 poses (list len=100)\n",
    "    data_save = parse.grab_mol_clean(file)[3]\n",
    "    \n",
    "    # Grab clusters run\n",
    "    clusters = parse.grab_mol_clean(file)[1]\n",
    "    \n",
    "    # Write PDBQT\n",
    "    with open(basename + \".pdbqt\", \"w\") as f:\n",
    "        for num in clusters:\n",
    "            f.write(data_save[num-1])\n",
    "    \n",
    "    pdbqt = glob.glob(\"*.pdbqt\")"
   ]
  },
  {
   "cell_type": "code",
   "execution_count": 7,
   "id": "eee44f95-822b-4fc8-bce6-779aec10fad6",
   "metadata": {},
   "outputs": [],
   "source": [
    "# Creare a tuple with all the run number in a ligand-indipendent way\n",
    "runs_nest = []\n",
    "\n",
    "for file in files:\n",
    "    runs_nest.append(parse.grab_mol_clean(file)[1])\n",
    "\n",
    "runs = tuple(chain.from_iterable(runs_nest))"
   ]
  },
  {
   "cell_type": "code",
   "execution_count": 8,
   "id": "123a1d30-0309-43d2-8606-ccd49bb5c812",
   "metadata": {},
   "outputs": [],
   "source": [
    "mol_for_run = []\n",
    "\n",
    "for file in files:\n",
    "    temp = parse.grab_mol_clean(file)[1]\n",
    "    \n",
    "    for t in temp:\n",
    "        mol_for_run.append(file)"
   ]
  },
  {
   "cell_type": "code",
   "execution_count": 9,
   "id": "e9d3646c-0120-470b-9226-f9256a7aa69f",
   "metadata": {},
   "outputs": [],
   "source": [
    "# Zip everything\n",
    "mol_conf_for_run = list(zip(mol_for_run,runs))"
   ]
  },
  {
   "cell_type": "code",
   "execution_count": 10,
   "id": "2ec202d6-fb28-47c0-af1e-9a3f8c138772",
   "metadata": {},
   "outputs": [],
   "source": [
    "# Make index data frame\n",
    "index = pd.MultiIndex.from_tuples(mol_conf_for_run, names=[\"Molecule\",\"Run\"])\n",
    "df = pd.DataFrame(index=index)"
   ]
  },
  {
   "cell_type": "code",
   "execution_count": 11,
   "id": "45a22da7-46c4-434c-86dc-f36aac94acd4",
   "metadata": {},
   "outputs": [],
   "source": [
    "# Prepare columns\n",
    "energy = []\n",
    "intermol_energy = []\n",
    "vdw_hbond_energy = []\n",
    "electrostatic_energy = []\n",
    "internal_energy = []\n",
    "torsional_energy = []\n",
    "\n",
    "for file in pdbqt:\n",
    "    energy.append(parse.grab_table(file)[0])\n",
    "    intermol_energy.append(parse.grab_table(file)[1])\n",
    "    vdw_hbond_energy.append(parse.grab_table(file)[2])\n",
    "    electrostatic_energy.append(parse.grab_table(file)[3])\n",
    "    internal_energy.append(parse.grab_table(file)[4])\n",
    "    torsional_energy.append(parse.grab_table(file)[5])\n",
    "\n",
    "energy = tuple(chain.from_iterable(energy))\n",
    "intermol_energy = tuple(chain.from_iterable(intermol_energy))\n",
    "vdw_hbond_energy = tuple(chain.from_iterable(vdw_hbond_energy))\n",
    "electrostatic_energy = tuple(chain.from_iterable(electrostatic_energy))\n",
    "internal_energy = tuple(chain.from_iterable(internal_energy))\n",
    "torsional_energy = tuple(chain.from_iterable(torsional_energy))"
   ]
  },
  {
   "cell_type": "code",
   "execution_count": 12,
   "id": "7968f5d8-9ff3-474e-b5e5-6fa3244df440",
   "metadata": {},
   "outputs": [],
   "source": [
    "# Append to index data frame\n",
    "df_final = df.assign(\n",
    "    Free_Energy_Of_Binding = energy,\n",
    "    Intermolecular_Energy = intermol_energy,\n",
    "    VdW_HBond_Desolv_Energy = vdw_hbond_energy,\n",
    "    Electrostatic_Energy = electrostatic_energy,\n",
    "    Internal_Energy = internal_energy,\n",
    "    Torsional_Free_Energy = torsional_energy\n",
    ")"
   ]
  },
  {
   "cell_type": "code",
   "execution_count": 13,
   "id": "34ed7dfc-fc9d-4f4b-b270-5e22551bfcc6",
   "metadata": {},
   "outputs": [],
   "source": [
    "# Create a new dataframe sorting the value by dock score\n",
    "df_sort = df_final.sort_values(\"Free_Energy_Of_Binding\",ascending=True)"
   ]
  },
  {
   "cell_type": "code",
   "execution_count": 14,
   "id": "053beec0-dd0b-436e-a659-0b7cba6e3576",
   "metadata": {},
   "outputs": [],
   "source": [
    "# Order the files in the right directories\n",
    "try:\n",
    "    os.mkdir(\"pdbqt\")\n",
    "except:\n",
    "    pass\n",
    "\n",
    "for file in pdbqt:\n",
    "    dest = \"pdbqt/\" + file\n",
    "    shutil.move(file, dest)\n",
    "\n",
    "os.chdir(\"pdbqt/\")"
   ]
  },
  {
   "cell_type": "code",
   "execution_count": 15,
   "id": "e5857ff5-9bb9-4ab6-a68d-3bce3aab1288",
   "metadata": {},
   "outputs": [],
   "source": [
    "# Write excel files\n",
    "df_sort.to_excel(\"Pose_Table_Sort.xlsx\")\n",
    "df_final.to_excel(\"Pose_Table.xlsx\")"
   ]
  }
 ],
 "metadata": {
  "kernelspec": {
   "display_name": "Python 3 (ipykernel)",
   "language": "python",
   "name": "python3"
  },
  "language_info": {
   "codemirror_mode": {
    "name": "ipython",
    "version": 3
   },
   "file_extension": ".py",
   "mimetype": "text/x-python",
   "name": "python",
   "nbconvert_exporter": "python",
   "pygments_lexer": "ipython3",
   "version": "3.9.12"
  }
 },
 "nbformat": 4,
 "nbformat_minor": 5
}
