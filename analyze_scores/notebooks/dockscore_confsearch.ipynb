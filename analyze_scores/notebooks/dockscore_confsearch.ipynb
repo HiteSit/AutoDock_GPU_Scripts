{
 "cells": [
  {
   "cell_type": "code",
   "execution_count": 1,
   "id": "bc5e1eae-4692-4f07-a92e-ae4047532e38",
   "metadata": {},
   "outputs": [],
   "source": [
    "import glob, os, shutil\n",
    "import re\n",
    "import pdb\n",
    "\n",
    "import pandas as pd\n",
    "import numpy as np\n",
    "\n",
    "from openbabel import pybel, openbabel\n",
    "from rdkit import Chem\n",
    "from rdkit.Chem import AllChem\n",
    "from itertools import chain"
   ]
  },
  {
   "cell_type": "code",
   "execution_count": 2,
   "id": "eabe534c-2686-47b9-9c3c-6d6212f4c43e",
   "metadata": {},
   "outputs": [],
   "source": [
    "from functions import parse_mol as parse\n",
    "from functions import conformer_gen as conf"
   ]
  },
  {
   "cell_type": "code",
   "execution_count": null,
   "id": "97b9e9f5-de72-4113-ac88-0a7c16237cd3",
   "metadata": {},
   "outputs": [
    {
     "name": "stdin",
     "output_type": "stream",
     "text": [
      "Choose your workdir:  D:\\MIF2\\MIF2_Docking\\Docking-BDFs\\adGPU\\VS_analysis\n"
     ]
    }
   ],
   "source": [
    "# Choose work directory\n",
    "work_dir = input(\"Choose your workdir: \")"
   ]
  },
  {
   "cell_type": "code",
   "execution_count": null,
   "id": "ada05a6a-17af-4dd6-b8cc-cbfe716a9548",
   "metadata": {},
   "outputs": [],
   "source": [
    "# Define choice-functions\n",
    "def choice_num_conf():\n",
    "    choice = \"wrong\"\n",
    "    \n",
    "    while choice.isdigit() == False:\n",
    "        choice = input(\"\\nChoose number of conformations to generate: \")\n",
    "        \n",
    "        if choice.isdigit() == False:\n",
    "            print(\"\\nYou must provide a number\")\n",
    "    \n",
    "    return int(choice)\n",
    "\n",
    "def choice_max_iter():\n",
    "    choice = \"wrong\"\n",
    "    \n",
    "    while choice.isdigit() == False:\n",
    "        choice = input(\"\\nChoose max interactions: \")\n",
    "        \n",
    "        if choice.isdigit() == False:\n",
    "            print(\"\\nYou must provide a number\")\n",
    "    \n",
    "    return int(choice)"
   ]
  },
  {
   "cell_type": "code",
   "execution_count": null,
   "id": "466a567b-d9f3-413b-a1d7-d2d41557311f",
   "metadata": {},
   "outputs": [],
   "source": [
    "# Move to the working directory\n",
    "os.chdir(work_dir)"
   ]
  },
  {
   "cell_type": "code",
   "execution_count": null,
   "id": "36b02553-58ba-45e7-bf0a-229af4b5613a",
   "metadata": {},
   "outputs": [],
   "source": [
    "# Write files full name & files basename\n",
    "files = glob.glob(\"*.dlg\")\n",
    "basenames = []\n",
    "for file in files:\n",
    "    basenames.append(file.split(\".\")[0])"
   ]
  },
  {
   "cell_type": "code",
   "execution_count": 8,
   "id": "c68a7520-556f-4776-bd78-af5dd9d940c5",
   "metadata": {
    "collapsed": true,
    "jupyter": {
     "outputs_hidden": true
    },
    "tags": []
   },
   "outputs": [
    {
     "name": "stdout",
     "output_type": "stream",
     "text": [
      "Generating the conformation for each ligand\n"
     ]
    },
    {
     "name": "stdin",
     "output_type": "stream",
     "text": [
      "\n",
      "Choose number of conformations to generate:  10\n",
      "\n",
      "Choose max interactions:  q\n"
     ]
    },
    {
     "name": "stdout",
     "output_type": "stream",
     "text": [
      "\n",
      "You must provide a number\n"
     ]
    },
    {
     "ename": "KeyboardInterrupt",
     "evalue": "Interrupted by user",
     "output_type": "error",
     "traceback": [
      "\u001b[1;31m---------------------------------------------------------------------------\u001b[0m",
      "\u001b[1;31mKeyboardInterrupt\u001b[0m                         Traceback (most recent call last)",
      "Input \u001b[1;32mIn [8]\u001b[0m, in \u001b[0;36m<cell line: 7>\u001b[1;34m()\u001b[0m\n\u001b[0;32m      5\u001b[0m \u001b[38;5;28mprint\u001b[39m(\u001b[38;5;124m\"\u001b[39m\u001b[38;5;124mGenerating the conformation for each ligand\u001b[39m\u001b[38;5;124m\"\u001b[39m)\n\u001b[0;32m      6\u001b[0m num_conf \u001b[38;5;241m=\u001b[39m choice_num_conf()\n\u001b[1;32m----> 7\u001b[0m max_iter \u001b[38;5;241m=\u001b[39m \u001b[43mchoice_max_iter\u001b[49m\u001b[43m(\u001b[49m\u001b[43m)\u001b[49m\n\u001b[0;32m     10\u001b[0m smiles \u001b[38;5;241m=\u001b[39m []\n\u001b[0;32m     11\u001b[0m min_confs \u001b[38;5;241m=\u001b[39m []\n",
      "Input \u001b[1;32mIn [5]\u001b[0m, in \u001b[0;36mchoice_max_iter\u001b[1;34m()\u001b[0m\n\u001b[0;32m      2\u001b[0m choice \u001b[38;5;241m=\u001b[39m \u001b[38;5;124m\"\u001b[39m\u001b[38;5;124mwrong\u001b[39m\u001b[38;5;124m\"\u001b[39m\n\u001b[0;32m      4\u001b[0m \u001b[38;5;28;01mwhile\u001b[39;00m choice\u001b[38;5;241m.\u001b[39misdigit() \u001b[38;5;241m==\u001b[39m \u001b[38;5;28;01mFalse\u001b[39;00m:\n\u001b[1;32m----> 5\u001b[0m     choice \u001b[38;5;241m=\u001b[39m \u001b[38;5;28;43minput\u001b[39;49m\u001b[43m(\u001b[49m\u001b[38;5;124;43m\"\u001b[39;49m\u001b[38;5;130;43;01m\\n\u001b[39;49;00m\u001b[38;5;124;43mChoose max interactions: \u001b[39;49m\u001b[38;5;124;43m\"\u001b[39;49m\u001b[43m)\u001b[49m\n\u001b[0;32m      7\u001b[0m     \u001b[38;5;28;01mif\u001b[39;00m choice\u001b[38;5;241m.\u001b[39misdigit() \u001b[38;5;241m==\u001b[39m \u001b[38;5;28;01mFalse\u001b[39;00m:\n\u001b[0;32m      8\u001b[0m         \u001b[38;5;28mprint\u001b[39m(\u001b[38;5;124m\"\u001b[39m\u001b[38;5;130;01m\\n\u001b[39;00m\u001b[38;5;124mYou must provide a number\u001b[39m\u001b[38;5;124m\"\u001b[39m)\n",
      "File \u001b[1;32m~\\anaconda3\\lib\\site-packages\\ipykernel\\kernelbase.py:1075\u001b[0m, in \u001b[0;36mKernel.raw_input\u001b[1;34m(self, prompt)\u001b[0m\n\u001b[0;32m   1071\u001b[0m \u001b[38;5;28;01mif\u001b[39;00m \u001b[38;5;129;01mnot\u001b[39;00m \u001b[38;5;28mself\u001b[39m\u001b[38;5;241m.\u001b[39m_allow_stdin:\n\u001b[0;32m   1072\u001b[0m     \u001b[38;5;28;01mraise\u001b[39;00m StdinNotImplementedError(\n\u001b[0;32m   1073\u001b[0m         \u001b[38;5;124m\"\u001b[39m\u001b[38;5;124mraw_input was called, but this frontend does not support input requests.\u001b[39m\u001b[38;5;124m\"\u001b[39m\n\u001b[0;32m   1074\u001b[0m     )\n\u001b[1;32m-> 1075\u001b[0m \u001b[38;5;28;01mreturn\u001b[39;00m \u001b[38;5;28;43mself\u001b[39;49m\u001b[38;5;241;43m.\u001b[39;49m\u001b[43m_input_request\u001b[49m\u001b[43m(\u001b[49m\n\u001b[0;32m   1076\u001b[0m \u001b[43m    \u001b[49m\u001b[38;5;28;43mstr\u001b[39;49m\u001b[43m(\u001b[49m\u001b[43mprompt\u001b[49m\u001b[43m)\u001b[49m\u001b[43m,\u001b[49m\n\u001b[0;32m   1077\u001b[0m \u001b[43m    \u001b[49m\u001b[38;5;28;43mself\u001b[39;49m\u001b[38;5;241;43m.\u001b[39;49m\u001b[43m_parent_ident\u001b[49m\u001b[43m[\u001b[49m\u001b[38;5;124;43m\"\u001b[39;49m\u001b[38;5;124;43mshell\u001b[39;49m\u001b[38;5;124;43m\"\u001b[39;49m\u001b[43m]\u001b[49m\u001b[43m,\u001b[49m\n\u001b[0;32m   1078\u001b[0m \u001b[43m    \u001b[49m\u001b[38;5;28;43mself\u001b[39;49m\u001b[38;5;241;43m.\u001b[39;49m\u001b[43mget_parent\u001b[49m\u001b[43m(\u001b[49m\u001b[38;5;124;43m\"\u001b[39;49m\u001b[38;5;124;43mshell\u001b[39;49m\u001b[38;5;124;43m\"\u001b[39;49m\u001b[43m)\u001b[49m\u001b[43m,\u001b[49m\n\u001b[0;32m   1079\u001b[0m \u001b[43m    \u001b[49m\u001b[43mpassword\u001b[49m\u001b[38;5;241;43m=\u001b[39;49m\u001b[38;5;28;43;01mFalse\u001b[39;49;00m\u001b[43m,\u001b[49m\n\u001b[0;32m   1080\u001b[0m \u001b[43m\u001b[49m\u001b[43m)\u001b[49m\n",
      "File \u001b[1;32m~\\anaconda3\\lib\\site-packages\\ipykernel\\kernelbase.py:1120\u001b[0m, in \u001b[0;36mKernel._input_request\u001b[1;34m(self, prompt, ident, parent, password)\u001b[0m\n\u001b[0;32m   1117\u001b[0m             \u001b[38;5;28;01mbreak\u001b[39;00m\n\u001b[0;32m   1118\u001b[0m \u001b[38;5;28;01mexcept\u001b[39;00m \u001b[38;5;167;01mKeyboardInterrupt\u001b[39;00m:\n\u001b[0;32m   1119\u001b[0m     \u001b[38;5;66;03m# re-raise KeyboardInterrupt, to truncate traceback\u001b[39;00m\n\u001b[1;32m-> 1120\u001b[0m     \u001b[38;5;28;01mraise\u001b[39;00m \u001b[38;5;167;01mKeyboardInterrupt\u001b[39;00m(\u001b[38;5;124m\"\u001b[39m\u001b[38;5;124mInterrupted by user\u001b[39m\u001b[38;5;124m\"\u001b[39m) \u001b[38;5;28;01mfrom\u001b[39;00m \u001b[38;5;28mNone\u001b[39m\n\u001b[0;32m   1121\u001b[0m \u001b[38;5;28;01mexcept\u001b[39;00m \u001b[38;5;167;01mException\u001b[39;00m:\n\u001b[0;32m   1122\u001b[0m     \u001b[38;5;28mself\u001b[39m\u001b[38;5;241m.\u001b[39mlog\u001b[38;5;241m.\u001b[39mwarning(\u001b[38;5;124m\"\u001b[39m\u001b[38;5;124mInvalid Message:\u001b[39m\u001b[38;5;124m\"\u001b[39m, exc_info\u001b[38;5;241m=\u001b[39m\u001b[38;5;28;01mTrue\u001b[39;00m)\n",
      "\u001b[1;31mKeyboardInterrupt\u001b[0m: Interrupted by user"
     ]
    }
   ],
   "source": [
    "# Grab the smiles of the ligands\n",
    "smile_files = glob.glob(\"*.smiles\")\n",
    "\n",
    "# Generate some conformer for each ligand, minimize all the conformations and write the minimum in a list of tuples\n",
    "print(\"\\nGenerating the conformation for each ligand\")\n",
    "num_conf = choice_num_conf()\n",
    "max_iter = choice_max_iter()\n",
    "\n",
    "\n",
    "smiles = []\n",
    "min_confs = []\n",
    "for file in smile_files:\n",
    "    with open(file, \"r\") as f:\n",
    "        data = f.readline()\n",
    "        smiles.append(data)\n",
    "    \n",
    "    min_confs.append(conf.gen_conf(data, num_conf, max_iter))"
   ]
  },
  {
   "cell_type": "code",
   "execution_count": null,
   "id": "2fbf5e7b-d431-4311-a5f5-4711e24163bb",
   "metadata": {},
   "outputs": [],
   "source": [
    "tup_1 = list(zip(files,basenames))\n",
    "conv_for_pose = []\n",
    "\n",
    "print(\"Writing pdbqt files\")\n",
    "\n",
    "for file, basename in tup_1:\n",
    "    \n",
    "    # Grab string 100 poses (list len=100)\n",
    "    data = parse.grab_mol_clean(file)[0]\n",
    "    data_save = parse.grab_mol_clean(file)[3]\n",
    "    \n",
    "    # Grab clusters run\n",
    "    clusters = parse.grab_mol_clean(file)[1]\n",
    "    \n",
    "    # Convert only the best poses for each run a append them to a list ligand-indipendent\n",
    "    for num in clusters:\n",
    "        conv_for_pose.append(conf.convert_to_mol2(data)[num-1])\n",
    "    \n",
    "    # Write PDBQT\n",
    "    with open(basename + \".pdbqt\", \"w\") as f:\n",
    "        for num in clusters:\n",
    "            f.write(data_save[num-1])\n",
    "    \n",
    "    pdbqt = glob.glob(\"*.pdbqt\")"
   ]
  },
  {
   "cell_type": "code",
   "execution_count": null,
   "id": "a49d0075-e1aa-4b55-a47e-700057c5d560",
   "metadata": {},
   "outputs": [],
   "source": [
    "# Calculate conformational energy for each pose in the previusly made list (still ligand-indipendent)\n",
    "energy_for_run = []\n",
    "\n",
    "for pose in conv_for_pose:\n",
    "    energy_for_run.append(conf.calc_conf_energy(pose))"
   ]
  },
  {
   "cell_type": "code",
   "execution_count": null,
   "id": "b5b91893-75dd-432b-a62d-929d3b1a9211",
   "metadata": {},
   "outputs": [],
   "source": [
    "# Creare a tuple with all the run number in a ligand-indipendent way\n",
    "runs_nest = []\n",
    "\n",
    "for file in files:\n",
    "    runs_nest.append(parse.grab_mol_clean(file)[1])\n",
    "\n",
    "runs = tuple(chain.from_iterable(runs_nest))"
   ]
  },
  {
   "cell_type": "code",
   "execution_count": null,
   "id": "bfc74164-bdfb-4763-b9c5-9fde80a80b78",
   "metadata": {},
   "outputs": [],
   "source": [
    "# Link the molecule with the global minimum conformer\n",
    "min_conf_list = []\n",
    "\n",
    "for f,l in min_confs:\n",
    "    l_round = round(l,2)\n",
    "    min_conf_list.append(l_round)\n",
    "\n",
    "mol_and_min_conf = list(zip(files, min_conf_list))"
   ]
  },
  {
   "cell_type": "code",
   "execution_count": null,
   "id": "b252fa4f-9141-4e01-b82c-0c0e8c0cec5d",
   "metadata": {},
   "outputs": [],
   "source": [
    "# Link the molecule and the conf_energy with the number of runs so that every list has the same lenght\n",
    "mol_for_run = []\n",
    "conf_for_run = []\n",
    "\n",
    "for file, conf in mol_and_min_conf:\n",
    "    temp = parse.grab_mol_clean(file)[1]\n",
    "    \n",
    "    for t in temp:\n",
    "        mol_for_run.append(file)\n",
    "        conf_for_run.append(conf)"
   ]
  },
  {
   "cell_type": "code",
   "execution_count": null,
   "id": "b46dc3df-c144-44a0-9532-e3913b91ae16",
   "metadata": {},
   "outputs": [],
   "source": [
    "# Zip everything\n",
    "mol_conf_for_run = list(zip(mol_for_run,conf_for_run,energy_for_run,runs))"
   ]
  },
  {
   "cell_type": "code",
   "execution_count": null,
   "id": "d0263fe1-08e8-49ae-9bef-95e4e1cd65d0",
   "metadata": {},
   "outputs": [],
   "source": [
    "# Calculate Delta conformational energy\n",
    "final_list = []\n",
    "\n",
    "for a,b,c,d in mol_conf_for_run:\n",
    "    \n",
    "    temp = []\n",
    "    \n",
    "    temp.append(a)\n",
    "    temp.append(round(c-b,2))\n",
    "    temp.append(d)\n",
    "    \n",
    "    temp_tuple = tuple(temp)\n",
    "    final_list.append(temp_tuple)\n",
    "    \n",
    "final_tuple = tuple(final_list)"
   ]
  },
  {
   "cell_type": "code",
   "execution_count": null,
   "id": "6ccdc1d1-325a-44da-9a4c-441c34909f15",
   "metadata": {},
   "outputs": [],
   "source": [
    "# Make index data frame\n",
    "index = pd.MultiIndex.from_tuples(final_tuple, names=[\"Molecule\",\"Delta_Conf_Energy\",\"Run\"])\n",
    "df = pd.DataFrame(index=index)"
   ]
  },
  {
   "cell_type": "code",
   "execution_count": null,
   "id": "46d62352-1870-4b4e-8091-a5423e1ac6b9",
   "metadata": {},
   "outputs": [],
   "source": [
    "# Prepare columns\n",
    "energy = []\n",
    "intermol_energy = []\n",
    "vdw_hbond_energy = []\n",
    "electrostatic_energy = []\n",
    "internal_energy = []\n",
    "torsional_energy = []\n",
    "\n",
    "for file in pdbqt:\n",
    "    energy.append(parse.grab_table(file)[0])\n",
    "    intermol_energy.append(parse.grab_table(file)[1])\n",
    "    vdw_hbond_energy.append(parse.grab_table(file)[2])\n",
    "    electrostatic_energy.append(parse.grab_table(file)[3])\n",
    "    internal_energy.append(parse.grab_table(file)[4])\n",
    "    torsional_energy.append(parse.grab_table(file)[5])\n",
    "\n",
    "energy = tuple(chain.from_iterable(energy))\n",
    "intermol_energy = tuple(chain.from_iterable(intermol_energy))\n",
    "vdw_hbond_energy = tuple(chain.from_iterable(vdw_hbond_energy))\n",
    "electrostatic_energy = tuple(chain.from_iterable(electrostatic_energy))\n",
    "internal_energy = tuple(chain.from_iterable(internal_energy))\n",
    "torsional_energy = tuple(chain.from_iterable(torsional_energy))"
   ]
  },
  {
   "cell_type": "code",
   "execution_count": null,
   "id": "c4090741-9b79-4186-906d-a78e7ebf5286",
   "metadata": {},
   "outputs": [],
   "source": [
    "# Append to index data frame\n",
    "df_final = df.assign(\n",
    "    Free_Energy_Of_Binding = energy,\n",
    "    Intermolecular_Energy = intermol_energy,\n",
    "    VdW_HBond_Desolv_Energy = vdw_hbond_energy,\n",
    "    Electrostatic_Energy = electrostatic_energy,\n",
    "    Internal_Energy = internal_energy,\n",
    "    Torsional_Free_Energy = torsional_energy\n",
    ")"
   ]
  },
  {
   "cell_type": "code",
   "execution_count": null,
   "id": "40a1b8aa-baae-44a9-a1b0-8cc55658da8b",
   "metadata": {},
   "outputs": [],
   "source": [
    "# Create a new dataframe sorting the value by dock score\n",
    "df_sort = df_final.sort_values(\"Free_Energy_Of_Binding\",ascending=True)"
   ]
  },
  {
   "cell_type": "code",
   "execution_count": null,
   "id": "b7e79dc4-fbfe-49f6-9d1a-1b666cbbc240",
   "metadata": {},
   "outputs": [],
   "source": [
    "# Order the files in the right directories\n",
    "try:\n",
    "    os.mkdir(\"pdbqt\")\n",
    "except:\n",
    "    pass\n",
    "\n",
    "for file in pdbqt:\n",
    "    dest = \"pdbqt/\" + file\n",
    "    shutil.move(file, dest)\n",
    "\n",
    "os.chdir(\"pdbqt/\")"
   ]
  },
  {
   "cell_type": "code",
   "execution_count": null,
   "id": "e40b7e69-7d89-4a36-9e68-0e61d757cfc5",
   "metadata": {},
   "outputs": [],
   "source": [
    "# Write excel files\n",
    "df_sort.to_excel(\"Pose_Table_Sort.xlsx\")\n",
    "df_final.to_excel(\"Pose_Table.xlsx\")"
   ]
  }
 ],
 "metadata": {
  "kernelspec": {
   "display_name": "Python 3 (ipykernel)",
   "language": "python",
   "name": "python3"
  },
  "language_info": {
   "codemirror_mode": {
    "name": "ipython",
    "version": 3
   },
   "file_extension": ".py",
   "mimetype": "text/x-python",
   "name": "python",
   "nbconvert_exporter": "python",
   "pygments_lexer": "ipython3",
   "version": "3.9.12"
  }
 },
 "nbformat": 4,
 "nbformat_minor": 5
}
